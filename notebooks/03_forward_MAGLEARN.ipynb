{
 "cells": [
  {
   "cell_type": "markdown",
   "id": "4018f019",
   "metadata": {},
   "source": [
    "### Imports"
   ]
  },
  {
   "cell_type": "code",
   "execution_count": null,
   "id": "71ea8259",
   "metadata": {},
   "outputs": [],
   "source": [
    "import os\n",
    "import numpy as np\n",
    "import pandas as pd\n",
    "from tqdm import tqdm\n",
    "\n",
    "from sklearn.model_selection import train_test_split\n",
    "from sklearn.preprocessing import StandardScaler, OrdinalEncoder\n",
    "from sklearn.compose import ColumnTransformer\n",
    "from sklearn.pipeline import Pipeline\n",
    "from sklearn.ensemble import RandomForestRegressor, GradientBoostingRegressor\n",
    "from sklearn.svm import SVR\n",
    "from sklearn.metrics import mean_squared_error, r2_score\n",
    "from sklearn.base import BaseEstimator, RegressorMixin, clone\n",
    "from sklearn.utils import resample"
   ]
  },
  {
   "cell_type": "markdown",
   "id": "4ff8b4b3",
   "metadata": {},
   "source": [
    "### Config and paths"
   ]
  },
  {
   "cell_type": "code",
   "execution_count": null,
   "id": "c66e35b5",
   "metadata": {},
   "outputs": [],
   "source": [
    "training_csv = \"core_top_data.csv\"     # training data\n",
    "new_data_csv = \"core_top_data.csv\"     # File path for new data\n",
    "\n",
    "\n",
    "pred_xlsx = \"forward_predictions.xlsx\"\n",
    "\n",
    "\n",
    "RANDOM_STATE = 42\n",
    "\n",
    "\n",
    "target = \"mgca\"\n",
    "numerical_features = [\"pH\", \"t_annual\", \"s_annual\", \"omega_inv_sq\"]\n",
    "categorical_features = [\"species\", \"clean_method\"]\n",
    "\n",
    "\n",
    "N_BOOTSTRAP = 500\n"
   ]
  },
  {
   "cell_type": "markdown",
   "id": "d4f739f4",
   "metadata": {},
   "source": [
    "### Ensemble Regressor"
   ]
  },
  {
   "cell_type": "code",
   "execution_count": null,
   "id": "ce091420",
   "metadata": {},
   "outputs": [],
   "source": [
    "class CustomEnsembleRegressor(BaseEstimator, RegressorMixin):\n",
    "    \"\"\"\n",
    "    Trains N bootstrap replicates\n",
    "    \"\"\"\n",
    "    def __init__(self, models, n_bootstrap=500, random_state=42):\n",
    "        self.models = models\n",
    "        self.n_bootstrap = n_bootstrap\n",
    "        self.random_state = random_state\n",
    "\n",
    "    def fit(self, X, y):\n",
    "        self.models_ = []\n",
    "        rng = np.random.RandomState(self.random_state)\n",
    "        for _ in tqdm(range(self.n_bootstrap), desc=\"Training\"):\n",
    "            X_b, y_b = resample(X, y, random_state=rng.randint(0, 1_000_000_000))\n",
    "            fitted = [clone(m).fit(X_b, y_b) for m in self.models]\n",
    "            self.models_.append(fitted)\n",
    "        return self\n",
    "\n",
    "    def predict(self, X):\n",
    "        all_means = []\n",
    "        for fitted in tqdm(self.models_, desc=\"Predicting\"):\n",
    "            preds = np.column_stack([m.predict(X) for m in fitted])  \n",
    "            all_means.append(preds.mean(axis=1))                     \n",
    "        all_means = np.vstack(all_means)                             \n",
    "        mean_pred = all_means.mean(axis=0)\n",
    "        std_pred  = all_means.std(axis=0)\n",
    "        lower     = mean_pred - std_pred\n",
    "        upper     = mean_pred + std_pred\n",
    "        return mean_pred, std_pred, lower, upper\n"
   ]
  },
  {
   "cell_type": "markdown",
   "id": "3e002cab",
   "metadata": {},
   "source": [
    "### Preprocessor and pipeline"
   ]
  },
  {
   "cell_type": "code",
   "execution_count": null,
   "id": "28c94861",
   "metadata": {},
   "outputs": [],
   "source": [
    "preprocessor = ColumnTransformer(\n",
    "    transformers=[\n",
    "        (\"num\", StandardScaler(), numerical_features),\n",
    "        \n",
    "        (\"cat\", OrdinalEncoder(handle_unknown=\"use_encoded_value\", unknown_value=-1), categorical_features),\n",
    "    ]\n",
    ")\n",
    "\n",
    "rf = RandomForestRegressor(\n",
    "    n_estimators=100, max_features=\"sqrt\", max_depth=None,\n",
    "    min_samples_split=2, min_samples_leaf=1, random_state=RANDOM_STATE\n",
    ")\n",
    "\n",
    "gbr = GradientBoostingRegressor(\n",
    "    learning_rate=0.1, max_depth=4, max_features=\"sqrt\",\n",
    "    min_samples_split=2, min_samples_leaf=1,\n",
    "    n_estimators=200, subsample=0.9, random_state=RANDOM_STATE\n",
    ")\n",
    "\n",
    "svr = SVR(C=10, degree=2, epsilon=0.1, gamma=\"scale\", kernel=\"rbf\")\n",
    "\n",
    "ensemble = CustomEnsembleRegressor(\n",
    "    models=[rf, gbr, svr],\n",
    "    n_bootstrap=N_BOOTSTRAP,\n",
    "    random_state=RANDOM_STATE\n",
    ")\n",
    "\n",
    "pipeline = Pipeline([\n",
    "    (\"preprocessor\", preprocessor),\n",
    "    (\"ensemble\", ensemble),\n",
    "])\n"
   ]
  },
  {
   "cell_type": "markdown",
   "id": "a2018637",
   "metadata": {},
   "source": [
    "### Training data and Train/Test split"
   ]
  },
  {
   "cell_type": "code",
   "execution_count": null,
   "id": "4301e9a0",
   "metadata": {},
   "outputs": [],
   "source": [
    "df = pd.read_csv(training_csv)\n",
    "\n",
    "required = set(numerical_features + categorical_features + [target])\n",
    "missing = required - set(df.columns)\n",
    "assert not missing, f\"Missing required columns: {missing}\"\n",
    "\n",
    "X = df[numerical_features + categorical_features]\n",
    "y = df[target].astype(float)\n",
    "\n",
    "X_train, X_test, y_train, y_test = train_test_split(\n",
    "    X, y, test_size=0.30, random_state=RANDOM_STATE\n",
    ")"
   ]
  },
  {
   "cell_type": "markdown",
   "id": "1b9d276f",
   "metadata": {},
   "source": [
    "### Fit"
   ]
  },
  {
   "cell_type": "code",
   "execution_count": null,
   "id": "b3818dee",
   "metadata": {},
   "outputs": [],
   "source": [
    "pipeline.fit(X_train, y_train)"
   ]
  },
  {
   "cell_type": "markdown",
   "id": "2915beec",
   "metadata": {},
   "source": [
    "### Predictions"
   ]
  },
  {
   "cell_type": "code",
   "execution_count": null,
   "id": "06bc4a40",
   "metadata": {},
   "outputs": [],
   "source": [
    "new_data = pd.read_csv(new_data_csv)\n",
    "\n",
    "req_pred = set(numerical_features + categorical_features)\n",
    "missing_pred = req_pred - set(new_data.columns)\n",
    "assert not missing_pred, f\"Missing columns in new data: {missing_pred}\"\n",
    "\n",
    "X_new = new_data[numerical_features + categorical_features]\n",
    "pred_mean, pred_sd, lower, upper = pipeline.predict(X_new)\n",
    "\n",
    "\n",
    "out_df = pd.DataFrame({\n",
    "    \"Predicted_MgCa\": pred_mean,\n",
    "    \"Predicted_MgCa_1SD_Lower\": lower,\n",
    "    \"Predicted_MgCa_1SD_Upper\": upper,\n",
    "})\n",
    "\n",
    "\n",
    "out_df = out_df.round(3)\n",
    "\n",
    "\n",
    "with pd.ExcelWriter(pred_xlsx) as writer:\n",
    "    out_df.to_excel(writer, sheet_name=\"Forward_Predictions\", index=False)\n",
    "\n",
    "print(f\"Wrote {pred_xlsx} with columns: {list(out_df.columns)}\")\n"
   ]
  },
  {
   "cell_type": "code",
   "execution_count": null,
   "id": "98a2a4f7",
   "metadata": {},
   "outputs": [],
   "source": []
  }
 ],
 "metadata": {
  "kernelspec": {
   "display_name": "Python 3 (ipykernel)",
   "language": "python",
   "name": "python3"
  },
  "language_info": {
   "codemirror_mode": {
    "name": "ipython",
    "version": 3
   },
   "file_extension": ".py",
   "mimetype": "text/x-python",
   "name": "python",
   "nbconvert_exporter": "python",
   "pygments_lexer": "ipython3",
   "version": "3.11.5"
  }
 },
 "nbformat": 4,
 "nbformat_minor": 5
}
