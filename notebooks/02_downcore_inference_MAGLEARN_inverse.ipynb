{
 "cells": [
  {
   "cell_type": "markdown",
   "id": "5940a0f3",
   "metadata": {},
   "source": [
    "### Imports"
   ]
  },
  {
   "cell_type": "code",
   "execution_count": null,
   "id": "1bfa9a78",
   "metadata": {},
   "outputs": [],
   "source": [
    "import os\n",
    "import numpy as np\n",
    "import pandas as pd\n",
    "import joblib\n",
    "from sklearn.base import BaseEstimator, RegressorMixin, clone\n",
    "from sklearn.utils import resample\n",
    "from tqdm import tqdm\n",
    "\n",
    "\n",
    "\n",
    "artifacts_dir = \"artifacts\"\n",
    "pipeline_path = os.path.join(artifacts_dir, \"maglearn_residual_pipeline.joblib\")\n",
    "\n",
    "\n",
    "RANDOM_STATE = 42\n",
    "\n",
    "\n",
    "num_features_residual = [\"mgca\", \"omega_inv_sq\"]\n",
    "cat_features_residual = [\"species\", \"clean_method\"]\n",
    "\n",
    "\n",
    "PARAM_COEFFS = dict(a_mean=0.036, a_std=0.006,\n",
    "                    b_mean=0.061, b_std=0.005,\n",
    "                    c_mean=-0.73, c_std=0.07,\n",
    "                    d_mean=0.0,   d_std=0.0)\n",
    "N_MC = 1_000_000\n"
   ]
  },
  {
   "cell_type": "markdown",
   "id": "ad7ed39c",
   "metadata": {},
   "source": [
    "### Parametric T "
   ]
  },
  {
   "cell_type": "code",
   "execution_count": null,
   "id": "1a2e15c6",
   "metadata": {},
   "outputs": [],
   "source": [
    "def compute_parametric_T(df, coeffs, n_mc=1_000_000, seed=42):\n",
    "    rng = np.random.default_rng(seed)\n",
    "    a_s = rng.normal(coeffs[\"a_mean\"], coeffs[\"a_std\"], n_mc)\n",
    "    b_s = rng.normal(coeffs[\"b_mean\"], coeffs[\"b_std\"], n_mc)\n",
    "    c_s = rng.normal(coeffs[\"c_mean\"], coeffs[\"c_std\"], n_mc)\n",
    "    d_s = rng.normal(coeffs[\"d_mean\"], coeffs[\"d_std\"], n_mc)\n",
    "\n",
    "    means = np.empty(len(df), dtype=float)\n",
    "    stds  = np.empty(len(df), dtype=float)\n",
    "\n",
    "    for i, row in df.iterrows():\n",
    "        mgca = row[\"mgca\"]\n",
    "        S    = row[\"s_annual\"]\n",
    "        pH   = row[\"pH\"]\n",
    "\n",
    "        T_samples = (np.log(mgca)\n",
    "                     - a_s * (S - 35.0)\n",
    "                     - c_s * (pH - 8.0)\n",
    "                     - d_s) / b_s\n",
    "\n",
    "        means[i] = T_samples.mean()\n",
    "        stds[i]  = T_samples.std(ddof=0)\n",
    "\n",
    "    return means, stds\n"
   ]
  },
  {
   "cell_type": "markdown",
   "id": "b6e34db1",
   "metadata": {},
   "source": [
    "### Load Fitted Pipeline"
   ]
  },
  {
   "cell_type": "code",
   "execution_count": null,
   "id": "d383b308",
   "metadata": {},
   "outputs": [],
   "source": [
    "class CustomEnsembleRegressor(BaseEstimator, RegressorMixin):\n",
    "    def __init__(self, models, n_bootstrap=500, random_state=42,\n",
    "                 save_bootstrap_predictions=False, bootstrap_csv_path=None):\n",
    "        self.models = models\n",
    "        self.n_bootstrap = n_bootstrap\n",
    "        self.random_state = random_state\n",
    "        self.save_bootstrap_predictions = save_bootstrap_predictions\n",
    "        self.bootstrap_csv_path = bootstrap_csv_path\n",
    "\n",
    "    def fit(self, X, y):\n",
    "        self.models_ = []\n",
    "        rng = np.random.RandomState(self.random_state)\n",
    "        for _ in tqdm(range(self.n_bootstrap), desc=\"Bootstrapping\"):\n",
    "            X_b, y_b = resample(X, y, random_state=rng.randint(0, 1_000_000_000))\n",
    "            fitted = [clone(m).fit(X_b, y_b) for m in self.models]\n",
    "            self.models_.append(fitted)\n",
    "        return self\n",
    "\n",
    "    def predict(self, X):\n",
    "        all_preds = []\n",
    "        for fitted in tqdm(self.models_, desc=\"Predicting\"):\n",
    "            preds = np.column_stack([m.predict(X) for m in fitted])\n",
    "            mean_per_boot = preds.mean(axis=1)\n",
    "            all_preds.append(mean_per_boot)\n",
    "        all_preds = np.vstack(all_preds)\n",
    "        mean_pred = all_preds.mean(axis=0)\n",
    "        sigma     = all_preds.std(axis=0)\n",
    "        lower     = mean_pred - sigma\n",
    "        upper     = mean_pred + sigma\n",
    "\n",
    "        if self.save_bootstrap_predictions and self.bootstrap_csv_path:\n",
    "            pd.DataFrame(all_preds.T,\n",
    "                         columns=[f\"bootstrap_{i+1}\" for i in range(self.n_bootstrap)]\n",
    "                        ).to_csv(self.bootstrap_csv_path, index=False)\n",
    "        return mean_pred, sigma, lower, upper\n",
    "\n",
    "\n",
    "import __main__\n",
    "__main__.CustomEnsembleRegressor = CustomEnsembleRegressor\n",
    "\n",
    "\n",
    "pipeline = joblib.load(os.path.join(\"artifacts\",\"maglearn_residual_pipeline.joblib\"))"
   ]
  },
  {
   "cell_type": "markdown",
   "id": "1e1e6125",
   "metadata": {},
   "source": [
    "### Load New Data & Compute Parametric T"
   ]
  },
  {
   "cell_type": "code",
   "execution_count": null,
   "id": "f640d53c",
   "metadata": {},
   "outputs": [],
   "source": [
    "# Replace with your file\n",
    "new_csv = \"tr163.csv\"\n",
    "new_data = pd.read_csv(new_csv)\n",
    "\n",
    "req_cols = {\"mgca\", \"omega_inv_sq\", \"s_annual\", \"pH\", \"species\", \"clean_method\"}\n",
    "missing = req_cols - set(new_data.columns)\n",
    "assert not missing, f\"Missing required columns in new data: {missing}\"\n",
    "\n",
    "param_T_new, param_T_new_unc = compute_parametric_T(new_data, PARAM_COEFFS, n_mc=N_MC, seed=RANDOM_STATE)\n"
   ]
  },
  {
   "cell_type": "markdown",
   "id": "4cec6913",
   "metadata": {},
   "source": [
    "### Predict and save outputs"
   ]
  },
  {
   "cell_type": "code",
   "execution_count": null,
   "id": "9a36460f",
   "metadata": {},
   "outputs": [],
   "source": [
    "X_new = new_data[num_features_residual + cat_features_residual]\n",
    "\n",
    "resid_mean, resid_sigma, resid_low, resid_up = pipeline.predict(X_new)\n",
    "\n",
    "final_mean_T = param_T_new + resid_mean\n",
    "\n",
    "\n",
    "total_sigma = np.sqrt(param_T_new_unc**2 + resid_sigma**2)\n",
    "lower_total = final_mean_T - total_sigma\n",
    "upper_total = final_mean_T + total_sigma\n"
   ]
  },
  {
   "cell_type": "code",
   "execution_count": null,
   "id": "aa485814",
   "metadata": {},
   "outputs": [],
   "source": [
    "summary_df = pd.DataFrame({\n",
    "    \"Predicted_T\": final_mean_T,\n",
    "    \"Predicted_T_1SD_Lower\": lower_total,   \n",
    "    \"Predicted_T_1SD_Upper\": upper_total,  \n",
    "})\n",
    "\n",
    "\n",
    "summary_df = summary_df.round(3)\n",
    "\n",
    "\n",
    "out_xlsx = \"predictions.xlsx\"\n",
    "with pd.ExcelWriter(out_xlsx) as writer:\n",
    "    summary_df.to_excel(writer, sheet_name=\"T_and_bounds\", index=False)\n",
    "\n",
    "print(f\"Wrote {out_xlsx} with columns: {', '.join(summary_df.columns)}\")\n"
   ]
  },
  {
   "cell_type": "code",
   "execution_count": null,
   "id": "8e45fa89",
   "metadata": {},
   "outputs": [],
   "source": []
  }
 ],
 "metadata": {
  "kernelspec": {
   "display_name": "Python 3 (ipykernel)",
   "language": "python",
   "name": "python3"
  },
  "language_info": {
   "codemirror_mode": {
    "name": "ipython",
    "version": 3
   },
   "file_extension": ".py",
   "mimetype": "text/x-python",
   "name": "python",
   "nbconvert_exporter": "python",
   "pygments_lexer": "ipython3",
   "version": "3.11.5"
  }
 },
 "nbformat": 4,
 "nbformat_minor": 5
}
